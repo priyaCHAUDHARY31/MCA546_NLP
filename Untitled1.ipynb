{
  "nbformat": 4,
  "nbformat_minor": 0,
  "metadata": {
    "colab": {
      "provenance": [],
      "authorship_tag": "ABX9TyPgnFWaUBTS2QZAQfCuinAG",
      "include_colab_link": true
    },
    "kernelspec": {
      "name": "python3",
      "display_name": "Python 3"
    },
    "language_info": {
      "name": "python"
    }
  },
  "cells": [
    {
      "cell_type": "markdown",
      "metadata": {
        "id": "view-in-github",
        "colab_type": "text"
      },
      "source": [
        "<a href=\"https://colab.research.google.com/github/priyaCHAUDHARY31/MCA546_NLP/blob/main/Untitled1.ipynb\" target=\"_parent\"><img src=\"https://colab.research.google.com/assets/colab-badge.svg\" alt=\"Open In Colab\"/></a>"
      ]
    },
    {
      "cell_type": "code",
      "execution_count": 1,
      "metadata": {
        "colab": {
          "base_uri": "https://localhost:8080/"
        },
        "id": "L-7atGdH1_d-",
        "outputId": "bedaeb7a-faad-4128-f9ce-65fcc04c0b45"
      },
      "outputs": [
        {
          "output_type": "stream",
          "name": "stdout",
          "text": [
            "['https://www.xy123z.com/']\n"
          ]
        }
      ],
      "source": [
        "import re\n",
        "\n",
        "example = \"I love spending time at https://www.xy123z.com/\"\n",
        "pattern = r'https?://[^\\s]+'\n",
        "urls = re.findall(pattern, example)\n",
        "\n",
        "print(urls)\n"
      ]
    },
    {
      "cell_type": "code",
      "source": [
        "import re\n",
        "\n",
        "example = \"My email id is xyz111@gmail.com\"\n",
        "email = re.findall(r'[a-zA-Z0-9._%+-]+@[a-zA-Z0-9.-]+\\.[a-zA-Z]{2,}', example)\n",
        "\n",
        "print(\"Extracted Email ID:\", email)\n"
      ],
      "metadata": {
        "colab": {
          "base_uri": "https://localhost:8080/"
        },
        "id": "82uOBEYt3PdI",
        "outputId": "045ff05c-1882-4d5e-b4a0-f23672a11979"
      },
      "execution_count": 3,
      "outputs": [
        {
          "output_type": "stream",
          "name": "stdout",
          "text": [
            "Extracted Email ID: ['xyz111@gmail.com']\n"
          ]
        }
      ]
    },
    {
      "cell_type": "code",
      "source": [
        "text = \"#Sushant is trending now in the world.\"\n",
        "hashtags = re.findall(r'#\\w+', text)\n",
        "print(\"Hashtags:\", hashtags)\n"
      ],
      "metadata": {
        "colab": {
          "base_uri": "https://localhost:8080/"
        },
        "id": "6U6YcTHI3i45",
        "outputId": "0c98ea3b-7ae5-454d-df18-788e733d65e6"
      },
      "execution_count": 4,
      "outputs": [
        {
          "output_type": "stream",
          "name": "stdout",
          "text": [
            "Hashtags: ['#Sushant']\n"
          ]
        }
      ]
    },
    {
      "cell_type": "code",
      "source": [
        "text = \"@Ajit, please help me\"\n",
        "mentions = re.findall(r'@\\w+', text)\n",
        "print(\"Mentions:\", mentions)\n"
      ],
      "metadata": {
        "colab": {
          "base_uri": "https://localhost:8080/"
        },
        "id": "bnsotS3j3mxw",
        "outputId": "3dc8385c-238c-4179-be12-1e5898095c1a"
      },
      "execution_count": 5,
      "outputs": [
        {
          "output_type": "stream",
          "name": "stdout",
          "text": [
            "Mentions: ['@Ajit']\n"
          ]
        }
      ]
    },
    {
      "cell_type": "code",
      "source": [
        "import string\n",
        "\n",
        "text = \"Corona virus killed #24506 people. #Corona is un(tolerable)\"\n",
        "punctuations = re.findall(r'[{}]'.format(re.escape(string.punctuation)), text)\n",
        "print(\"Punctuations:\", punctuations)\n"
      ],
      "metadata": {
        "colab": {
          "base_uri": "https://localhost:8080/"
        },
        "id": "3gIJssEN3yaA",
        "outputId": "8e536279-1952-431a-8775-c94f705ef411"
      },
      "execution_count": 6,
      "outputs": [
        {
          "output_type": "stream",
          "name": "stdout",
          "text": [
            "Punctuations: ['#', '.', '#', '(', ')']\n"
          ]
        }
      ]
    },
    {
      "cell_type": "code",
      "source": [
        "texts = [\"ABCED3193P\", \"lEcGD012eg\"]\n",
        "for text in texts:\n",
        "    is_valid_pan = bool(re.fullmatch(r'[A-Z]{5}[0-9]{4}[A-Z]', text))\n",
        "    print(f\"{text} → {'Valid' if is_valid_pan else 'Invalid'} PAN\")\n"
      ],
      "metadata": {
        "colab": {
          "base_uri": "https://localhost:8080/"
        },
        "id": "hYgSEfUN31Gp",
        "outputId": "36ffb1d9-44f8-43d6-c4f2-b4cf794574e9"
      },
      "execution_count": 12,
      "outputs": [
        {
          "output_type": "stream",
          "name": "stdout",
          "text": [
            "ABCED3193P → Valid PAN\n",
            "lEcGD012eg → Invalid PAN\n"
          ]
        }
      ]
    },
    {
      "cell_type": "code",
      "source": [],
      "metadata": {
        "colab": {
          "base_uri": "https://localhost:8080/"
        },
        "id": "OBbrxVuI38i6",
        "outputId": "9d318894-3bea-421b-9c16-874601781bd8"
      },
      "execution_count": 8,
      "outputs": [
        {
          "output_type": "stream",
          "name": "stdout",
          "text": [
            "Without Repeats: hey this is a very long text\n"
          ]
        }
      ]
    },
    {
      "cell_type": "code",
      "source": [
        "text = \"9990001796 is a phone number of PMO office\"\n",
        "mobile_numbers = re.findall(r'\\b[6-9]\\d{9}\\b', text)\n",
        "print(\"Mobile Numbers:\", mobile_numbers)\n"
      ],
      "metadata": {
        "colab": {
          "base_uri": "https://localhost:8080/"
        },
        "id": "jLJfU-wy4Cae",
        "outputId": "9ad41187-b588-4bfc-c786-2b9cd444a162"
      },
      "execution_count": 9,
      "outputs": [
        {
          "output_type": "stream",
          "name": "stdout",
          "text": [
            "Mobile Numbers: ['9990001796']\n"
          ]
        }
      ]
    },
    {
      "cell_type": "code",
      "source": [
        "text = \"Ajit Doval is the best National Security Advisor so far.\"\n",
        "capital_words = re.findall(r'\\b[A-Z][a-z]*\\b', text)\n",
        "print(\"Capitalized Words:\", capital_words)\n"
      ],
      "metadata": {
        "colab": {
          "base_uri": "https://localhost:8080/"
        },
        "id": "geCyRAEt4JJe",
        "outputId": "bdb7b613-02ef-48a5-9ed8-f149602fddeb"
      },
      "execution_count": 10,
      "outputs": [
        {
          "output_type": "stream",
          "name": "stdout",
          "text": [
            "Capitalized Words: ['Ajit', 'Doval', 'National', 'Security', 'Advisor']\n"
          ]
        }
      ]
    }
  ]
}